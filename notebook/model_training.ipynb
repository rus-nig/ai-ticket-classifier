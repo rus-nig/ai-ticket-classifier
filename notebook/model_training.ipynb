{
 "cells": [
  {
   "cell_type": "markdown",
   "metadata": {},
   "source": [
    "# 1 Подготовка"
   ]
  },
  {
   "cell_type": "markdown",
   "metadata": {},
   "source": [
    "## Импорт библиотек"
   ]
  },
  {
   "cell_type": "code",
   "execution_count": null,
   "metadata": {},
   "outputs": [],
   "source": [
    "from collections import Counter\n",
    "from sklearn.ensemble import RandomForestClassifier, GradientBoostingClassifier\n",
    "from sklearn.feature_extraction.text import TfidfVectorizer, CountVectorizer\n",
    "from sklearn.linear_model import LogisticRegression\n",
    "from sklearn.metrics import accuracy_score, classification_report\n",
    "from sklearn.model_selection import train_test_split, GridSearchCV\n",
    "from sklearn.neighbors import KNeighborsClassifier\n",
    "from sklearn.svm import SVC\n",
    "\n",
    "import matplotlib.pyplot as plt\n",
    "import os\n",
    "import seaborn as sns\n",
    "import pandas as pd\n",
    "import pickle\n",
    "import requests\n",
    "import zipfile"
   ]
  },
  {
   "cell_type": "markdown",
   "metadata": {},
   "source": [
    "## Устанавливаем стиль визуализации"
   ]
  },
  {
   "cell_type": "code",
   "execution_count": 2,
   "metadata": {},
   "outputs": [],
   "source": [
    "sns.set_theme(style=\"whitegrid\")"
   ]
  },
  {
   "cell_type": "markdown",
   "metadata": {},
   "source": [
    "# 2 Загрузка данных"
   ]
  },
  {
   "cell_type": "code",
   "execution_count": 3,
   "metadata": {},
   "outputs": [],
   "source": [
    "# Загрузка данных локально\n",
    "file_path = '../data/tickets.csv'\n",
    "\n",
    "data = pd.read_csv(file_path, delimiter=';')"
   ]
  },
  {
   "cell_type": "code",
   "execution_count": 4,
   "metadata": {},
   "outputs": [],
   "source": [
    "# Загрузка данных из внешнего хранилища\n",
    "\n",
    "url = \"https://www.kaggle.com/api/v1/datasets/download/adisongoh/it-service-ticket-classification-dataset\"  # Адрес для загрузки данных\n",
    "\n",
    "extract_file = \"all_tickets_processed_improved_v3.csv\"  # Имя файла в архиве\n",
    "\n",
    "# Скачивание архива\n",
    "response = requests.get(url, stream=True)\n",
    "if response.status_code == 200:\n",
    "    temp_archive = \"../data/temp_archive.zip\"\n",
    "    with open(temp_archive, 'wb') as f:\n",
    "        f.write(response.content)\n",
    "    print(f\"Данные успешно загружены с {url}\")\n",
    "else:\n",
    "    raise Exception(f\"Ошибка при загрузке данных: {response.status_code} {response.reason}\")\n",
    "\n",
    "# Распаковка архива\n",
    "extract_dir = '../data'\n",
    "with zipfile.ZipFile(temp_archive, 'r') as zip_ref:\n",
    "    zip_ref.extractall(extract_dir)\n",
    "print(\"Архив успешно распакован.\")\n",
    "extracted_path = os.path.join(extract_dir, extract_file)\n",
    "\n",
    "# Очистка временных файлов\n",
    "os.remove(temp_archive)\n",
    "print(\"Временный архив удалён.\")\n",
    "\n",
    "# Загрузка данных в DataFrame\n",
    "data = pd.read_csv(extracted_path, delimiter=',')\n",
    "\n",
    "# Переименование колонок при необходимости\n",
    "rename_mapping = {\n",
    "    'Document': 'Description',\n",
    "    'Topic_group': 'Type'\n",
    "}\n",
    "data.rename(columns=rename_mapping, inplace=True)"
   ]
  },
  {
   "cell_type": "code",
   "execution_count": null,
   "metadata": {},
   "outputs": [],
   "source": [
    "# Проверка корректной загрузки данных\n",
    "print(\"Пример данных:\")\n",
    "display(data.head())"
   ]
  },
  {
   "cell_type": "markdown",
   "metadata": {},
   "source": [
    "# 3 Исследовательский анализ данных"
   ]
  },
  {
   "cell_type": "code",
   "execution_count": null,
   "metadata": {},
   "outputs": [],
   "source": [
    "# Распределение категорий тикетов\n",
    "plt.figure(figsize=(10, 6))\n",
    "sns.countplot(\n",
    "    y=data['Type'], \n",
    "    order=data['Type'].value_counts().index, \n",
    "    palette=\"viridis\", \n",
    "    legend=False\n",
    ")\n",
    "plt.title('Распределение категорий тикетов')\n",
    "plt.xlabel('Количество')\n",
    "plt.ylabel('Категория')\n",
    "plt.show()"
   ]
  },
  {
   "cell_type": "code",
   "execution_count": null,
   "metadata": {},
   "outputs": [],
   "source": [
    "# Длина описаний тикетов\n",
    "data['description_length'] = data['Description'].apply(len)\n",
    "plt.figure(figsize=(10, 6))\n",
    "sns.histplot(data['description_length'], kde=True, bins=30, color='blue')\n",
    "plt.title('Распределение длины описаний тикетов')\n",
    "plt.xlabel('Длина описания')\n",
    "plt.ylabel('Количество')\n",
    "plt.show()"
   ]
  },
  {
   "cell_type": "code",
   "execution_count": null,
   "metadata": {},
   "outputs": [],
   "source": [
    "# Анализ и визуализация наиболее частых N-грамм\n",
    "\n",
    "def plot_top_ngrams(corpus, ngram_range=(1, 1), top_n=20, title=\"Топ N-грамм\"):\n",
    "    vectorizer = CountVectorizer(ngram_range=ngram_range, stop_words='english')\n",
    "    X = vectorizer.fit_transform(corpus)\n",
    "    ngram_counts = Counter(dict(zip(vectorizer.get_feature_names_out(), X.sum(axis=0).A1)))\n",
    "    \n",
    "    top_ngrams = ngram_counts.most_common(top_n)\n",
    "    ngrams, counts = zip(*top_ngrams)\n",
    "    \n",
    "    plt.figure(figsize=(10, 6))\n",
    "    sns.barplot(x=counts, y=ngrams, palette='viridis')\n",
    "    plt.title(title)\n",
    "    plt.xlabel('Частота')\n",
    "    plt.ylabel('N-граммы')\n",
    "    plt.show()\n",
    "\n",
    "# Топ униграмм\n",
    "print(\"Топ униграмм:\")\n",
    "plot_top_ngrams(data['Description'], ngram_range=(1, 1), top_n=20, title=\"Топ 20 униграмм\")\n",
    "\n",
    "# Топ биграмм\n",
    "print(\"Топ биграмм:\")\n",
    "plot_top_ngrams(data['Description'], ngram_range=(2, 2), top_n=20, title=\"Топ 20 биграмм\")\n",
    "\n",
    "# Топ триграмм\n",
    "print(\"Топ триграмм:\")\n",
    "plot_top_ngrams(data['Description'], ngram_range=(3, 3), top_n=20, title=\"Топ 20 триграмм\")"
   ]
  },
  {
   "cell_type": "markdown",
   "metadata": {},
   "source": [
    "# 4 Предобработка данных"
   ]
  },
  {
   "cell_type": "code",
   "execution_count": 9,
   "metadata": {},
   "outputs": [],
   "source": [
    "# Удаляем строки с пропущенными значениями\n",
    "data = data.dropna(subset=['Description', 'Type'])"
   ]
  },
  {
   "cell_type": "code",
   "execution_count": 10,
   "metadata": {},
   "outputs": [],
   "source": [
    "# Приведение текста к нижнему регистру\n",
    "data['Description'] = data['Description'].str.lower()"
   ]
  },
  {
   "cell_type": "code",
   "execution_count": 11,
   "metadata": {},
   "outputs": [],
   "source": [
    "# Удаление лишних символов (шум)\n",
    "data['Description'] = data['Description'].str.replace(r'[^a-zA-Z\\s]', '', regex=True)"
   ]
  },
  {
   "cell_type": "code",
   "execution_count": null,
   "metadata": {},
   "outputs": [],
   "source": [
    "# Выводим несколько обработанных записей\n",
    "print(\"\\nОбработанные данные:\")\n",
    "display(data.head())"
   ]
  },
  {
   "cell_type": "markdown",
   "metadata": {},
   "source": [
    "# 5 Разделение на признаки и целевые переменные, векторизация данных TF-IDF"
   ]
  },
  {
   "cell_type": "code",
   "execution_count": 13,
   "metadata": {},
   "outputs": [],
   "source": [
    "X = data['Description']  # Признаки\n",
    "y = data['Type']         # Целевая переменная"
   ]
  },
  {
   "cell_type": "markdown",
   "metadata": {},
   "source": [
    "## Создание обучающей и валидационной выборки"
   ]
  },
  {
   "cell_type": "code",
   "execution_count": null,
   "metadata": {},
   "outputs": [],
   "source": [
    "X_train, X_test, y_train, y_test = train_test_split(X, y, test_size=0.2, random_state=42, stratify=y)\n",
    "\n",
    "print(f\"\\nКоличество записей в обучающей выборке: {len(X_train)}\")\n",
    "print(f\"Количество записей в валидационной выборке: {len(X_test)}\")"
   ]
  },
  {
   "cell_type": "code",
   "execution_count": null,
   "metadata": {},
   "outputs": [],
   "source": [
    "# Векторизация текста\n",
    "vectorizer = TfidfVectorizer(max_features=5000, stop_words='english', ngram_range=(1, 2))\n",
    "\n",
    "X_train_tfidf = vectorizer.fit_transform(X_train)\n",
    "X_test_tfidf = vectorizer.transform(X_test)\n",
    "\n",
    "print(\"\\nРазмерность векторизованных данных:\")\n",
    "print(f\"Обучающие данные: {X_train_tfidf.shape}\")\n",
    "print(f\"Валидационные данные: {X_test_tfidf.shape}\")"
   ]
  },
  {
   "cell_type": "markdown",
   "metadata": {},
   "source": [
    "# 6 Обучение модели"
   ]
  },
  {
   "cell_type": "markdown",
   "metadata": {},
   "source": [
    "### Логистическая регрессия"
   ]
  },
  {
   "cell_type": "code",
   "execution_count": null,
   "metadata": {},
   "outputs": [],
   "source": [
    "lr_param_grid = {\n",
    "    'C': [0.1, 1, 10],\n",
    "    'solver': ['lbfgs', 'liblinear']\n",
    "}\n",
    "grid_search_lr = GridSearchCV(LogisticRegression(random_state=42, max_iter=1000), lr_param_grid, cv=3, scoring='accuracy')\n",
    "grid_search_lr.fit(X_train_tfidf, y_train)\n",
    "lr_model = grid_search_lr.best_estimator_\n",
    "\n",
    "print(f\"Лучшие параметры для Логистической регрессии: {grid_search_lr.best_params_}\")"
   ]
  },
  {
   "cell_type": "markdown",
   "metadata": {},
   "source": [
    "### Метод K-ближайших соседей (KNN)"
   ]
  },
  {
   "cell_type": "code",
   "execution_count": null,
   "metadata": {},
   "outputs": [],
   "source": [
    "knn_param_grid = {\n",
    "    'n_neighbors': [3, 5, 7],\n",
    "    'weights': ['uniform', 'distance']\n",
    "}\n",
    "grid_search_knn = GridSearchCV(KNeighborsClassifier(), knn_param_grid, cv=3, scoring='accuracy')\n",
    "grid_search_knn.fit(X_train_tfidf, y_train)\n",
    "knn_model = grid_search_knn.best_estimator_\n",
    "\n",
    "print(f\"Лучшие параметры для KNN: {grid_search_knn.best_params_}\")"
   ]
  },
  {
   "cell_type": "markdown",
   "metadata": {},
   "source": [
    "### Метод случайного леса (Random Forest)"
   ]
  },
  {
   "cell_type": "code",
   "execution_count": null,
   "metadata": {},
   "outputs": [],
   "source": [
    "rf_param_grid = {\n",
    "    'n_estimators': [100, 200, 300],\n",
    "    'max_depth': [None, 10, 20],\n",
    "    'min_samples_split': [2, 5, 10]\n",
    "}\n",
    "grid_search_rf = GridSearchCV(RandomForestClassifier(random_state=42), rf_param_grid, cv=3, scoring='accuracy')\n",
    "grid_search_rf.fit(X_train_tfidf, y_train)\n",
    "rf_model = grid_search_rf.best_estimator_\n",
    "\n",
    "print(f\"Лучшие параметры для Random Forest: {grid_search_rf.best_params_}\")"
   ]
  },
  {
   "cell_type": "markdown",
   "metadata": {},
   "source": [
    "### Метод опорных векторов (SVM)"
   ]
  },
  {
   "cell_type": "code",
   "execution_count": null,
   "metadata": {},
   "outputs": [],
   "source": [
    "svm_param_grid = {\n",
    "    'C': [0.1, 1, 10],\n",
    "    'kernel': ['linear', 'rbf']\n",
    "}\n",
    "grid_search_svm = GridSearchCV(SVC(random_state=42), svm_param_grid, cv=3, scoring='accuracy')\n",
    "grid_search_svm.fit(X_train_tfidf, y_train)\n",
    "svm_model = grid_search_svm.best_estimator_\n",
    "\n",
    "print(f\"Лучшие параметры для SVM: {grid_search_svm.best_params_}\")"
   ]
  },
  {
   "cell_type": "markdown",
   "metadata": {},
   "source": [
    "### Градиентный бустинг (Gradient Boosting)"
   ]
  },
  {
   "cell_type": "code",
   "execution_count": 20,
   "metadata": {},
   "outputs": [],
   "source": [
    "gb_param_grid = {\n",
    "    'n_estimators': [50, 100, 200],\n",
    "    'learning_rate': [0.01, 0.1, 0.2],\n",
    "    'max_depth': [3, 5, 7]\n",
    "}\n",
    "grid_search_gb = GridSearchCV(GradientBoostingClassifier(random_state=42), gb_param_grid, cv=3, scoring='accuracy')\n",
    "grid_search_gb.fit(X_train_tfidf, y_train)\n",
    "gb_model = grid_search_gb.best_estimator_"
   ]
  },
  {
   "cell_type": "markdown",
   "metadata": {},
   "source": [
    "# 7 Проверка работоспособности и оценка моделей"
   ]
  },
  {
   "cell_type": "code",
   "execution_count": 21,
   "metadata": {},
   "outputs": [],
   "source": [
    "# Словарь для сохранения результатов\n",
    "results = {}\n",
    "\n",
    "results[\"Logistic Regression\"] = {\n",
    "    \"accuracy\": None,\n",
    "    \"classification_report\": None\n",
    "}\n",
    "\n",
    "results[\"KNN\"] = {\n",
    "    \"accuracy\": None,\n",
    "    \"classification_report\": None\n",
    "}\n",
    "\n",
    "results[\"Random Forest\"] = {\n",
    "    \"accuracy\": None,\n",
    "    \"classification_report\": None\n",
    "}\n",
    "\n",
    "results[\"SVM\"] = {\n",
    "    \"accuracy\": None,\n",
    "    \"classification_report\": None\n",
    "}\n",
    "\n",
    "results[\"Gradient Boosting\"] = {\n",
    "    \"accuracy\": None,\n",
    "    \"classification_report\": None\n",
    "}"
   ]
  },
  {
   "cell_type": "code",
   "execution_count": null,
   "metadata": {},
   "outputs": [],
   "source": [
    "# Оценка логистической регрессии\n",
    "lr_y_pred = lr_model.predict(X_test_tfidf)\n",
    "\n",
    "print(\"\\nОценка модели: Логистическая регрессия\")\n",
    "lr_accuracy = accuracy_score(y_test, lr_y_pred)\n",
    "print(f\"Accuracy для логистической регрессии: {lr_accuracy:.4f}\")\n",
    "lr_classification_rep = classification_report(y_test, lr_y_pred)\n",
    "print(\"Отчёт по классификации для логистической регрессии:\")\n",
    "print(lr_classification_rep)\n",
    "results[\"Logistic Regression\"] = {\n",
    "    \"accuracy\": lr_accuracy,\n",
    "    \"classification_report\": lr_classification_rep\n",
    "}\n",
    "\n",
    "# Визуализация метрик\n",
    "report_lines = lr_classification_rep.split('\\n')\n",
    "class_metrics = []\n",
    "\n",
    "for line in report_lines:\n",
    "    parts = line.split()\n",
    "    if len(parts) >= 5 and parts[0] not in [\"precision\", \"recall\", \"f1-score\", \"support\", \"accuracy\"]:  \n",
    "        try:\n",
    "            class_name = parts[0]\n",
    "            precision = float(parts[1])\n",
    "            recall = float(parts[2])\n",
    "            f1_score = float(parts[3])\n",
    "            support = int(parts[4])\n",
    "            class_metrics.append([class_name, precision, recall, f1_score, support])\n",
    "        except ValueError:\n",
    "            continue\n",
    "\n",
    "class_metrics_df = pd.DataFrame(\n",
    "    class_metrics,\n",
    "    columns=[\"Класс\", \"Точность (Precision)\", \"Полнота (Recall)\", \"F1-мера\", \"Поддержка (Support)\"]\n",
    ")\n",
    "\n",
    "plt.figure(figsize=(12, 8))\n",
    "sns.barplot(\n",
    "    data=class_metrics_df.melt(id_vars=\"Класс\", value_vars=[\"Точность (Precision)\", \"Полнота (Recall)\", \"F1-мера\"]),\n",
    "    x=\"value\", y=\"Класс\", hue=\"variable\", palette=\"viridis\"\n",
    ")\n",
    "plt.title(\"Анализ метрик для классов: Logistic Regression\", fontsize=16)\n",
    "plt.xlabel(\"Значение\", fontsize=14)\n",
    "plt.ylabel(\"Класс\", fontsize=14)\n",
    "plt.legend(title=\"Метрика\", fontsize=12)\n",
    "plt.show()"
   ]
  },
  {
   "cell_type": "code",
   "execution_count": null,
   "metadata": {},
   "outputs": [],
   "source": [
    "# Оценка K-ближайших соседей (KNN)\n",
    "knn_y_pred = knn_model.predict(X_test_tfidf)\n",
    "\n",
    "print(\"\\nОценка модели: K-ближайшие соседи (KNN)\")\n",
    "knn_accuracy = accuracy_score(y_test, knn_y_pred)\n",
    "print(f\"Accuracy для KNN: {knn_accuracy:.4f}\")\n",
    "knn_classification_rep = classification_report(y_test, knn_y_pred)\n",
    "print(\"Отчёт по классификации для KNN:\")\n",
    "print(knn_classification_rep)\n",
    "results[\"KNN\"] = {\n",
    "    \"accuracy\": knn_accuracy,\n",
    "    \"classification_report\": knn_classification_rep\n",
    "}\n",
    "\n",
    "# Визуализация метрик\n",
    "report_lines = knn_classification_rep.split('\\n')\n",
    "class_metrics = []\n",
    "\n",
    "for line in report_lines:\n",
    "    parts = line.split()\n",
    "    if len(parts) >= 5 and parts[0] not in [\"precision\", \"recall\", \"f1-score\", \"support\", \"accuracy\"]:  \n",
    "        try:\n",
    "            class_name = parts[0]\n",
    "            precision = float(parts[1])\n",
    "            recall = float(parts[2])\n",
    "            f1_score = float(parts[3])\n",
    "            support = int(parts[4])\n",
    "            class_metrics.append([class_name, precision, recall, f1_score, support])\n",
    "        except ValueError:\n",
    "            continue\n",
    "\n",
    "class_metrics_df = pd.DataFrame(\n",
    "    class_metrics,\n",
    "    columns=[\"Класс\", \"Точность (Precision)\", \"Полнота (Recall)\", \"F1-мера\", \"Поддержка (Support)\"]\n",
    ")\n",
    "\n",
    "plt.figure(figsize=(12, 8))\n",
    "sns.barplot(\n",
    "    data=class_metrics_df.melt(id_vars=\"Класс\", value_vars=[\"Точность (Precision)\", \"Полнота (Recall)\", \"F1-мера\"]),\n",
    "    x=\"value\", y=\"Класс\", hue=\"variable\", palette=\"viridis\"\n",
    ")\n",
    "plt.title(\"Анализ метрик для классов: KNN\", fontsize=16)\n",
    "plt.xlabel(\"Значение\", fontsize=14)\n",
    "plt.ylabel(\"Класс\", fontsize=14)\n",
    "plt.legend(title=\"Метрика\", fontsize=12)\n",
    "plt.show()"
   ]
  },
  {
   "cell_type": "code",
   "execution_count": null,
   "metadata": {},
   "outputs": [],
   "source": [
    "# Оценка случайного леса (Random Forest)\n",
    "rf_y_pred = rf_model.predict(X_test_tfidf)\n",
    "\n",
    "print(\"\\nОценка модели: Случайный лес (Random Forest)\")\n",
    "rf_accuracy = accuracy_score(y_test, rf_y_pred)\n",
    "print(f\"Accuracy для Random Forest: {rf_accuracy:.4f}\")\n",
    "rf_classification_rep = classification_report(y_test, rf_y_pred)\n",
    "print(\"Отчёт по классификации для Random Forest:\")\n",
    "print(rf_classification_rep)\n",
    "results[\"Random Forest\"] = {\n",
    "    \"accuracy\": rf_accuracy,\n",
    "    \"classification_report\": rf_classification_rep\n",
    "}"
   ]
  },
  {
   "cell_type": "code",
   "execution_count": null,
   "metadata": {},
   "outputs": [],
   "source": [
    "# Оценка метода опорных векторов (SVM)\n",
    "svm_y_pred = svm_model.predict(X_test_tfidf)\n",
    "\n",
    "print(\"\\nОценка модели: Метод опорных векторов (SVM)\")\n",
    "svm_accuracy = accuracy_score(y_test, svm_y_pred)\n",
    "print(f\"Accuracy для SVM: {svm_accuracy:.4f}\")\n",
    "svm_classification_rep = classification_report(y_test, svm_y_pred)\n",
    "print(\"Отчёт по классификации для SVM:\")\n",
    "print(svm_classification_rep)\n",
    "results[\"SVM\"] = {\n",
    "    \"accuracy\": svm_accuracy,\n",
    "    \"classification_report\": svm_classification_rep\n",
    "}"
   ]
  },
  {
   "cell_type": "code",
   "execution_count": null,
   "metadata": {},
   "outputs": [],
   "source": [
    "# Оценка градиентного бустинга (Gradient Boosting)\n",
    "gb_y_pred = gb_model.predict(X_test_tfidf)\n",
    "\n",
    "print(\"\\nОценка модели: Градиентный бустинг (Gradient Boosting)\")\n",
    "gb_accuracy = accuracy_score(y_test, gb_y_pred)\n",
    "print(f\"Accuracy для Gradient Boosting: {gb_accuracy:.4f}\")\n",
    "gb_classification_rep = classification_report(y_test, gb_y_pred)\n",
    "print(\"Отчёт по классификации для Gradient Boosting:\")\n",
    "print(gb_classification_rep)\n",
    "results[\"Gradient Boosting\"] = {\n",
    "    \"accuracy\": gb_accuracy,\n",
    "    \"classification_report\": gb_classification_rep\n",
    "}"
   ]
  },
  {
   "cell_type": "code",
   "execution_count": null,
   "metadata": {},
   "outputs": [],
   "source": [
    "# Визуализация сравнительных результатов\n",
    "print(\"\\nСравнение результатов моделей:\")\n",
    "model_names = list(results.keys())\n",
    "accuracies = [results[model][\"accuracy\"] for model in model_names]\n",
    "\n",
    "# Построение графика точности\n",
    "plt.figure(figsize=(12, 8))\n",
    "sns.barplot(x=model_names, y=accuracies, palette='viridis')\n",
    "plt.title('Сравнение точности различных моделей', fontsize=16)\n",
    "plt.xlabel('Метод', fontsize=14)\n",
    "plt.ylabel('Accuracy', fontsize=14)\n",
    "plt.xticks(rotation=45, fontsize=12)\n",
    "plt.yticks(fontsize=12)\n",
    "plt.tight_layout()\n",
    "plt.show()\n",
    "\n",
    "# Шаг 8: Печать всех отчётов классификации\n",
    "print(\"\\nПодробные отчёты по классификации для каждой модели:\\n\")\n",
    "for model, metrics in results.items():\n",
    "    print(f\"\\nМодель: {model}\")\n",
    "    print(f\"Accuracy: {metrics['accuracy']:.4f}\")\n",
    "    print(\"Отчет по классификации:\")\n",
    "    print(metrics[\"classification_report\"])"
   ]
  },
  {
   "cell_type": "markdown",
   "metadata": {},
   "source": [
    "# 8 Сохранение модели"
   ]
  },
  {
   "cell_type": "code",
   "execution_count": null,
   "metadata": {},
   "outputs": [],
   "source": [
    "# Нахождение модель с наилучшей точностью\n",
    "best_model_name = max(results, key=lambda x: results[x]['accuracy'])\n",
    "best_model_accuracy = results[best_model_name]['accuracy']\n",
    "\n",
    "print(f\"Лучшей моделью оказалась: {best_model_name} с точностью {best_model_accuracy:.4f}\")\n",
    "\n",
    "# Сопоставление названия модели с её объектом\n",
    "model_mapping = {\n",
    "    \"Logistic Regression\": lr_model,\n",
    "    \"KNN\": knn_model,\n",
    "    \"Random Forest\": rf_model,\n",
    "    \"SVM\": svm_model,\n",
    "    \"Gradient Boosting\": gb_model\n",
    "}"
   ]
  },
  {
   "cell_type": "code",
   "execution_count": null,
   "metadata": {},
   "outputs": [],
   "source": [
    "# Сохранение лучшей модели\n",
    "best_model = model_mapping[best_model_name]\n",
    "model_path = f\"../models/{best_model_name.replace(' ', '_').lower()}_ticket_classifier_model.pkl\"\n",
    "\n",
    "with open(model_path, 'wb') as model_file:\n",
    "    pickle.dump(best_model, model_file)\n",
    "\n",
    "# Сохранение векторизатора\n",
    "vectorizer_path = f\"../models/{best_model_name.replace(' ', '_').lower()}_tfidf_vectorizer.pkl\"\n",
    "\n",
    "with open(vectorizer_path, 'wb') as vectorizer_file:\n",
    "    pickle.dump(vectorizer, vectorizer_file)\n",
    "\n",
    "print(f\"Модель '{best_model_name}' успешно сохранена по пути: {model_path}\")\n",
    "print(f\"Векторизатор сохранён по пути: {vectorizer_path}\")"
   ]
  },
  {
   "cell_type": "markdown",
   "metadata": {},
   "source": [
    "# 9 Загрузка и проверка модели"
   ]
  },
  {
   "cell_type": "code",
   "execution_count": null,
   "metadata": {},
   "outputs": [],
   "source": [
    "# Загрузка модели\n",
    "with open(model_path, 'rb') as model_file:\n",
    "    loaded_model = pickle.load(model_file)\n",
    "\n",
    "# Загрузка векторизатора\n",
    "with open(vectorizer_path, 'rb') as vectorizer_file:\n",
    "    loaded_vectorizer = pickle.load(vectorizer_file)\n",
    "\n",
    "print(\"\\nМодель и векторизатор успешно загружены.\")"
   ]
  },
  {
   "cell_type": "code",
   "execution_count": null,
   "metadata": {},
   "outputs": [],
   "source": [
    "# Тестирование загруженной модели на новом тексте\n",
    "new_ticket = [\"Reports fail to load when certain filters are applied\"]\n",
    "new_ticket_vectorized = loaded_vectorizer.transform(new_ticket)\n",
    "new_ticket_prediction = loaded_model.predict(new_ticket_vectorized)\n",
    "\n",
    "print(\"\\nТестовое описание тикета:\", new_ticket[0])\n",
    "print(\"Предсказанная категория:\", new_ticket_prediction[0])"
   ]
  }
 ],
 "metadata": {
  "kernelspec": {
   "display_name": "venv",
   "language": "python",
   "name": "python3"
  },
  "language_info": {
   "codemirror_mode": {
    "name": "ipython",
    "version": 3
   },
   "file_extension": ".py",
   "mimetype": "text/x-python",
   "name": "python",
   "nbconvert_exporter": "python",
   "pygments_lexer": "ipython3",
   "version": "3.9.6"
  }
 },
 "nbformat": 4,
 "nbformat_minor": 2
}
