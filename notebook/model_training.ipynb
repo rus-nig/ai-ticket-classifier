{
 "cells": [
  {
   "cell_type": "markdown",
   "metadata": {},
   "source": [
    "# 1 Подготовка"
   ]
  },
  {
   "cell_type": "markdown",
   "metadata": {},
   "source": [
    "## Импорт библиотек"
   ]
  },
  {
   "cell_type": "code",
   "execution_count": null,
   "metadata": {},
   "outputs": [],
   "source": [
    "import matplotlib.pyplot as plt\n",
    "import os\n",
    "import seaborn as sns\n",
    "import pandas as pd\n",
    "import pickle\n",
    "import requests\n",
    "from sklearn.model_selection import train_test_split\n",
    "from sklearn.feature_extraction.text import TfidfVectorizer\n",
    "from sklearn.linear_model import LogisticRegression\n",
    "from sklearn.metrics import accuracy_score, classification_report\n",
    "import zipfile"
   ]
  },
  {
   "cell_type": "markdown",
   "metadata": {},
   "source": [
    "## Устанавливаем стиль визуализации"
   ]
  },
  {
   "cell_type": "code",
   "execution_count": 2,
   "metadata": {},
   "outputs": [],
   "source": [
    "sns.set_theme(style=\"whitegrid\")"
   ]
  },
  {
   "cell_type": "markdown",
   "metadata": {},
   "source": [
    "# 2 Загрузка данных"
   ]
  },
  {
   "cell_type": "code",
   "execution_count": 3,
   "metadata": {},
   "outputs": [],
   "source": [
    "# Загрузка данных локально\n",
    "file_path = '../data/tickets.csv'\n",
    "\n",
    "data = pd.read_csv(file_path, delimiter=';')"
   ]
  },
  {
   "cell_type": "code",
   "execution_count": null,
   "metadata": {},
   "outputs": [],
   "source": [
    "# Загрузка данных из внешнего хранилища\n",
    "\n",
    "url = \"https://www.kaggle.com/api/v1/datasets/download/adisongoh/it-service-ticket-classification-dataset\"  # Адрес для загрузки данных\n",
    "\n",
    "extract_file = \"all_tickets_processed_improved_v3.csv\"  # Имя файла в архиве\n",
    "\n",
    "# Скачивание архива\n",
    "response = requests.get(url, stream=True)\n",
    "if response.status_code == 200:\n",
    "    temp_archive = \"../data/temp_archive.zip\"\n",
    "    with open(temp_archive, 'wb') as f:\n",
    "        f.write(response.content)\n",
    "    print(f\"Данные успешно загружены с {url}\")\n",
    "else:\n",
    "    raise Exception(f\"Ошибка при загрузке данных: {response.status_code} {response.reason}\")\n",
    "\n",
    "# Распаковка архива\n",
    "extract_dir = '../data'\n",
    "with zipfile.ZipFile(temp_archive, 'r') as zip_ref:\n",
    "    zip_ref.extractall(extract_dir)\n",
    "print(\"Архив успешно распакован.\")\n",
    "extracted_path = os.path.join(extract_dir, extract_file)\n",
    "\n",
    "# Очистка временных файлов\n",
    "os.remove(temp_archive)\n",
    "print(\"Временный архив удалён.\")\n",
    "\n",
    "# Загрузка данных в DataFrame\n",
    "data = pd.read_csv(extracted_path, delimiter=',')\n",
    "\n",
    "# Переименование колонок при необходимости\n",
    "rename_mapping = {\n",
    "    'Document': 'Description',\n",
    "    'Topic_group': 'Type'\n",
    "}\n",
    "data.rename(columns=rename_mapping, inplace=True)"
   ]
  },
  {
   "cell_type": "code",
   "execution_count": null,
   "metadata": {},
   "outputs": [],
   "source": [
    "# Проверка корректной загрузки данных\n",
    "print(\"Пример данных:\")\n",
    "display(data.head())"
   ]
  },
  {
   "cell_type": "markdown",
   "metadata": {},
   "source": [
    "# 3 Исследовательский анализ данных"
   ]
  },
  {
   "cell_type": "code",
   "execution_count": null,
   "metadata": {},
   "outputs": [],
   "source": [
    "# Распределение категорий тикетов\n",
    "plt.figure(figsize=(10, 6))\n",
    "sns.countplot(\n",
    "    y=data['Type'], \n",
    "    order=data['Type'].value_counts().index, \n",
    "    palette=\"viridis\", \n",
    "    legend=False\n",
    ")\n",
    "plt.title('Распределение категорий тикетов')\n",
    "plt.xlabel('Количество')\n",
    "plt.ylabel('Категория')\n",
    "plt.show()"
   ]
  },
  {
   "cell_type": "code",
   "execution_count": null,
   "metadata": {},
   "outputs": [],
   "source": [
    "# Длина описаний тикетов\n",
    "data['description_length'] = data['Description'].apply(len)\n",
    "plt.figure(figsize=(10, 6))\n",
    "sns.histplot(data['description_length'], kde=True, bins=30, color='blue')\n",
    "plt.title('Распределение длины описаний тикетов')\n",
    "plt.xlabel('Длина описания')\n",
    "plt.ylabel('Количество')\n",
    "plt.show()"
   ]
  },
  {
   "cell_type": "markdown",
   "metadata": {},
   "source": [
    "# 4 Предобработка данных"
   ]
  },
  {
   "cell_type": "code",
   "execution_count": 7,
   "metadata": {},
   "outputs": [],
   "source": [
    "# Удаляем строки с пропущенными значениями\n",
    "data = data.dropna(subset=['Description', 'Type'])"
   ]
  },
  {
   "cell_type": "code",
   "execution_count": 8,
   "metadata": {},
   "outputs": [],
   "source": [
    "# Приведение текста к нижнему регистру\n",
    "data['Description'] = data['Description'].str.lower()"
   ]
  },
  {
   "cell_type": "code",
   "execution_count": 9,
   "metadata": {},
   "outputs": [],
   "source": [
    "# Удаление лишних символов (шум)\n",
    "data['Description'] = data['Description'].str.replace(r'[^a-zA-Z\\s]', '', regex=True)"
   ]
  },
  {
   "cell_type": "code",
   "execution_count": null,
   "metadata": {},
   "outputs": [],
   "source": [
    "# Выводим несколько обработанных записей\n",
    "print(\"\\nОбработанные данные:\")\n",
    "display(data.head())"
   ]
  },
  {
   "cell_type": "markdown",
   "metadata": {},
   "source": [
    "# 5 Разделение на признаки и целевые переменные, векторизация данных TF-IDF"
   ]
  },
  {
   "cell_type": "code",
   "execution_count": 11,
   "metadata": {},
   "outputs": [],
   "source": [
    "X = data['Description']  # Признаки\n",
    "y = data['Type']         # Целевая переменная"
   ]
  },
  {
   "cell_type": "markdown",
   "metadata": {},
   "source": [
    "## Создание обучающей и валидационной выборки"
   ]
  },
  {
   "cell_type": "code",
   "execution_count": null,
   "metadata": {},
   "outputs": [],
   "source": [
    "X_train, X_test, y_train, y_test = train_test_split(X, y, test_size=0.2, random_state=42, stratify=y)\n",
    "\n",
    "print(f\"\\nКоличество записей в обучающей выборке: {len(X_train)}\")\n",
    "print(f\"Количество записей в валидационной выборке: {len(X_test)}\")"
   ]
  },
  {
   "cell_type": "code",
   "execution_count": null,
   "metadata": {},
   "outputs": [],
   "source": [
    "# Векторизация текста\n",
    "vectorizer = TfidfVectorizer(max_features=5000, stop_words='english', ngram_range=(1, 2))\n",
    "\n",
    "X_train_tfidf = vectorizer.fit_transform(X_train)\n",
    "X_test_tfidf = vectorizer.transform(X_test)\n",
    "\n",
    "print(\"\\nРазмерность векторизованных данных:\")\n",
    "print(f\"Обучающие данные: {X_train_tfidf.shape}\")\n",
    "print(f\"Валидационные данные: {X_test_tfidf.shape}\")"
   ]
  },
  {
   "cell_type": "markdown",
   "metadata": {},
   "source": [
    "# 6 Обучение модели с использованием метода логистической регрессии"
   ]
  },
  {
   "cell_type": "code",
   "execution_count": null,
   "metadata": {},
   "outputs": [],
   "source": [
    "model = LogisticRegression(random_state=42, max_iter=1000)\n",
    "\n",
    "model.fit(X_train_tfidf, y_train)"
   ]
  },
  {
   "cell_type": "markdown",
   "metadata": {},
   "source": [
    "# 7 Проверка работоспособности и оценка модели"
   ]
  },
  {
   "cell_type": "code",
   "execution_count": null,
   "metadata": {},
   "outputs": [],
   "source": [
    "y_pred = model.predict(X_test_tfidf)\n",
    "\n",
    "accuracy = accuracy_score(y_test, y_pred)\n",
    "classification_rep = classification_report(y_test, y_pred)\n",
    "\n",
    "\n",
    "print(\"\\nAccuracy модели:\", accuracy)\n",
    "print(\"\\nОтчет по классификации:\\n\", classification_rep)"
   ]
  },
  {
   "cell_type": "markdown",
   "metadata": {},
   "source": [
    "# 8 Сохранение модели"
   ]
  },
  {
   "cell_type": "code",
   "execution_count": 16,
   "metadata": {},
   "outputs": [],
   "source": [
    "# Директория для сохранения модели\n",
    "model_path = '../models/ticket_classifier.pkl'\n",
    "vectorizer_path = '../models/tfidf_vectorizer.pkl'\n",
    "\n",
    "# Сохранение модели\n",
    "with open(model_path, 'wb') as model_file:\n",
    "    pickle.dump(model, model_file)\n",
    "\n",
    "# Сохранение векторизатора\n",
    "with open(vectorizer_path, 'wb') as vectorizer_file:\n",
    "    pickle.dump(vectorizer, vectorizer_file)"
   ]
  },
  {
   "cell_type": "markdown",
   "metadata": {},
   "source": [
    "# 9 Загрузка и проверка модели"
   ]
  },
  {
   "cell_type": "code",
   "execution_count": null,
   "metadata": {},
   "outputs": [],
   "source": [
    "# Загрузка модели\n",
    "with open(model_path, 'rb') as model_file:\n",
    "    loaded_model = pickle.load(model_file)\n",
    "\n",
    "# Загрузка векторизатора\n",
    "with open(vectorizer_path, 'rb') as vectorizer_file:\n",
    "    loaded_vectorizer = pickle.load(vectorizer_file)\n",
    "\n",
    "print(\"\\nМодель и векторизатор успешно загружены.\")"
   ]
  },
  {
   "cell_type": "code",
   "execution_count": null,
   "metadata": {},
   "outputs": [],
   "source": [
    "# Тестирование загруженной модели на новом тексте\n",
    "new_ticket = [\"Reports fail to load when certain filters are applied\"]\n",
    "new_ticket_vectorized = loaded_vectorizer.transform(new_ticket)\n",
    "new_ticket_prediction = loaded_model.predict(new_ticket_vectorized)\n",
    "\n",
    "print(\"\\nТестовое описание тикета:\", new_ticket[0])\n",
    "print(\"Предсказанная категория:\", new_ticket_prediction[0])"
   ]
  }
 ],
 "metadata": {
  "kernelspec": {
   "display_name": "venv",
   "language": "python",
   "name": "python3"
  },
  "language_info": {
   "codemirror_mode": {
    "name": "ipython",
    "version": 3
   },
   "file_extension": ".py",
   "mimetype": "text/x-python",
   "name": "python",
   "nbconvert_exporter": "python",
   "pygments_lexer": "ipython3",
   "version": "3.9.6"
  }
 },
 "nbformat": 4,
 "nbformat_minor": 2
}
